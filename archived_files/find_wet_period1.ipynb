{
 "cells": [
  {
   "cell_type": "code",
   "execution_count": 13,
   "id": "56a208f6",
   "metadata": {},
   "outputs": [
    {
     "name": "stdout",
     "output_type": "stream",
     "text": [
      "                       date  w_a\n",
      "0      05/01/22 12:00:00 AM  4.1\n",
      "1      05/01/22 12:05:00 AM  4.1\n",
      "2      05/01/22 12:10:00 AM  3.5\n",
      "3      05/01/22 12:15:00 AM  3.5\n",
      "4      05/01/22 12:20:00 AM  4.1\n",
      "...                     ...  ...\n",
      "15567  06/29/22 11:40:00 PM  5.3\n",
      "15568  06/29/22 11:45:00 PM  5.9\n",
      "15569  06/29/22 11:50:00 PM  5.9\n",
      "15570  06/29/22 11:55:00 PM  5.9\n",
      "15571  06/30/22 12:00:00 AM  5.9\n",
      "\n",
      "[15572 rows x 2 columns]\n",
      "['2022-05-03', '2022-05-04', '2022-05-05', '2022-05-13', '2022-05-15', '2022-05-16', '2022-05-19', '2022-05-20', '2022-05-23', '2022-05-28', '2022-05-29', '2022-06-08', '2022-06-24', '2022-06-25', '2022-06-29']\n"
     ]
    }
   ],
   "source": [
    "import pandas as pd\n",
    "import datetime\n",
    "import numpy as np\n",
    "from datetime import timedelta\n",
    "\n",
    "#import our file, make sure file name and tabs match\n",
    "df = pd.read_csv('t_w_python.csv', usecols= ['w_a','date'])\n",
    "print(df)\n",
    "\n",
    "\n",
    "\n",
    "\n",
    "\n",
    "\n",
    "def f(g):\n",
    "   mask = (g['w_a'] >= 90)\n",
    "   max_continuous_range = (np.max(np.cumsum(g['date'].where(mask).diff()))\n",
    "                         + timedelta(minutes = 1))\n",
    "   return  max_continuous_range.seconds >= 21600\n",
    "\n",
    "df['date'] = pd.to_datetime(df['date'])\n",
    "groups = df.groupby(df['date'].dt.date, as_index = False)\n",
    "final_list = [str(idx) for idx, g in groups if f(g)]\n",
    "\n",
    "print(final_list)\n"
   ]
  },
  {
   "cell_type": "code",
   "execution_count": null,
   "id": "fbb14ef0",
   "metadata": {},
   "outputs": [],
   "source": []
  },
  {
   "cell_type": "code",
   "execution_count": null,
   "id": "aa035483",
   "metadata": {},
   "outputs": [],
   "source": []
  },
  {
   "cell_type": "code",
   "execution_count": null,
   "id": "6eade271",
   "metadata": {},
   "outputs": [],
   "source": []
  }
 ],
 "metadata": {
  "kernelspec": {
   "display_name": "Python 3 (ipykernel)",
   "language": "python",
   "name": "python3"
  },
  "language_info": {
   "codemirror_mode": {
    "name": "ipython",
    "version": 3
   },
   "file_extension": ".py",
   "mimetype": "text/x-python",
   "name": "python",
   "nbconvert_exporter": "python",
   "pygments_lexer": "ipython3",
   "version": "3.9.12"
  }
 },
 "nbformat": 4,
 "nbformat_minor": 5
}
